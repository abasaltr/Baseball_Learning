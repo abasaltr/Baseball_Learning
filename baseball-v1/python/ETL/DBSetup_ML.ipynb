{
 "cells": [
  {
   "cell_type": "markdown",
   "metadata": {},
   "source": [
    "<h1>Add Machine Learning Model CSV results to SQL Database</h1>"
   ]
  },
  {
   "cell_type": "markdown",
   "metadata": {},
   "source": [
    "<h4>Import Dependencies</h4>"
   ]
  },
  {
   "cell_type": "code",
   "execution_count": 1,
   "metadata": {},
   "outputs": [],
   "source": [
    "import os\n",
    "import csv\n",
    "import pandas as pd\n",
    "import random\n",
    "\n",
    "import sqlite3\n",
    "import csv\n",
    "from sqlalchemy import create_engine\n",
    "\n",
    "from config import pgPassword"
   ]
  },
  {
   "cell_type": "markdown",
   "metadata": {},
   "source": [
    "<h4>Create paths to CSV files</h4>"
   ]
  },
  {
   "cell_type": "code",
   "execution_count": 2,
   "metadata": {},
   "outputs": [],
   "source": [
    "pathTeams = os.path.join(\"..\", \"..\", \"data\", \"csv/models\", \"teamPredictions.csv\")\n",
    "pathRunsScore = os.path.join(\"..\", \"..\", \"data\", \"csv/models\", \"rpgPredictions.csv\")\n",
    "pathHomeRuns = os.path.join(\"..\", \"..\", \"data\", \"csv/models\", \"HRpgPredictions.csv\")\n",
    "pathBaseHits = os.path.join(\"..\", \"..\", \"data\", \"csv/models\", \"hpgPredictions.csv\")\n",
    "pathWalks = os.path.join(\"..\", \"..\", \"data\", \"csv/models\", \"BBpgPredictions.csv\")"
   ]
  },
  {
   "cell_type": "markdown",
   "metadata": {},
   "source": [
    "<h4>Load CSV files into DataFrame</h4>"
   ]
  },
  {
   "cell_type": "code",
   "execution_count": 3,
   "metadata": {},
   "outputs": [
    {
     "name": "stdout",
     "output_type": "stream",
     "text": [
      "(4192, 6)\n"
     ]
    },
    {
     "data": {
      "text/html": [
       "<div>\n",
       "<style scoped>\n",
       "    .dataframe tbody tr th:only-of-type {\n",
       "        vertical-align: middle;\n",
       "    }\n",
       "\n",
       "    .dataframe tbody tr th {\n",
       "        vertical-align: top;\n",
       "    }\n",
       "\n",
       "    .dataframe thead th {\n",
       "        text-align: right;\n",
       "    }\n",
       "</style>\n",
       "<table border=\"1\" class=\"dataframe\">\n",
       "  <thead>\n",
       "    <tr style=\"text-align: right;\">\n",
       "      <th></th>\n",
       "      <th>ID</th>\n",
       "      <th>yearID</th>\n",
       "      <th>teamID</th>\n",
       "      <th>actual</th>\n",
       "      <th>model</th>\n",
       "      <th>modelType</th>\n",
       "    </tr>\n",
       "  </thead>\n",
       "  <tbody>\n",
       "    <tr>\n",
       "      <th>0</th>\n",
       "      <td>0</td>\n",
       "      <td>1982</td>\n",
       "      <td>ANA-1982</td>\n",
       "      <td>0.574074</td>\n",
       "      <td>0.520139</td>\n",
       "      <td>ML-EN-T1</td>\n",
       "    </tr>\n",
       "    <tr>\n",
       "      <th>1</th>\n",
       "      <td>1</td>\n",
       "      <td>1982</td>\n",
       "      <td>ANA-1982</td>\n",
       "      <td>0.574074</td>\n",
       "      <td>0.532950</td>\n",
       "      <td>ML-LN-T1</td>\n",
       "    </tr>\n",
       "    <tr>\n",
       "      <th>2</th>\n",
       "      <td>2</td>\n",
       "      <td>1982</td>\n",
       "      <td>ANA-1982</td>\n",
       "      <td>0.574074</td>\n",
       "      <td>0.499530</td>\n",
       "      <td>ML-LS-T1</td>\n",
       "    </tr>\n",
       "    <tr>\n",
       "      <th>3</th>\n",
       "      <td>3</td>\n",
       "      <td>1982</td>\n",
       "      <td>ANA-1982</td>\n",
       "      <td>0.574074</td>\n",
       "      <td>0.532837</td>\n",
       "      <td>ML-RD-T1</td>\n",
       "    </tr>\n",
       "    <tr>\n",
       "      <th>4</th>\n",
       "      <td>4</td>\n",
       "      <td>1983</td>\n",
       "      <td>ANA-1983</td>\n",
       "      <td>0.432099</td>\n",
       "      <td>0.493408</td>\n",
       "      <td>ML-EN-T1</td>\n",
       "    </tr>\n",
       "  </tbody>\n",
       "</table>\n",
       "</div>"
      ],
      "text/plain": [
       "   ID  yearID    teamID    actual     model modelType\n",
       "0   0    1982  ANA-1982  0.574074  0.520139  ML-EN-T1\n",
       "1   1    1982  ANA-1982  0.574074  0.532950  ML-LN-T1\n",
       "2   2    1982  ANA-1982  0.574074  0.499530  ML-LS-T1\n",
       "3   3    1982  ANA-1982  0.574074  0.532837  ML-RD-T1\n",
       "4   4    1983  ANA-1983  0.432099  0.493408  ML-EN-T1"
      ]
     },
     "execution_count": 3,
     "metadata": {},
     "output_type": "execute_result"
    }
   ],
   "source": [
    "# Read Team Predictions csv into a DataFrame\n",
    "teamPredictDF = pd.read_csv(pathTeams)\n",
    "teamPredictDF = teamPredictDF.rename(columns={'Unnamed: 0': 'ID'})\n",
    "teamPredictDF = teamPredictDF.rename(columns={'model_type': 'modelType'})\n",
    "teamPredictDF['ID'] = teamPredictDF.index\n",
    "print(teamPredictDF.shape)\n",
    "teamPredictDF.head()"
   ]
  },
  {
   "cell_type": "code",
   "execution_count": 4,
   "metadata": {},
   "outputs": [
    {
     "name": "stdout",
     "output_type": "stream",
     "text": [
      "(835324, 6)\n"
     ]
    },
    {
     "data": {
      "text/html": [
       "<div>\n",
       "<style scoped>\n",
       "    .dataframe tbody tr th:only-of-type {\n",
       "        vertical-align: middle;\n",
       "    }\n",
       "\n",
       "    .dataframe tbody tr th {\n",
       "        vertical-align: top;\n",
       "    }\n",
       "\n",
       "    .dataframe thead th {\n",
       "        text-align: right;\n",
       "    }\n",
       "</style>\n",
       "<table border=\"1\" class=\"dataframe\">\n",
       "  <thead>\n",
       "    <tr style=\"text-align: right;\">\n",
       "      <th></th>\n",
       "      <th>ID</th>\n",
       "      <th>yearID</th>\n",
       "      <th>fpID</th>\n",
       "      <th>actual</th>\n",
       "      <th>model</th>\n",
       "      <th>modelType</th>\n",
       "    </tr>\n",
       "  </thead>\n",
       "  <tbody>\n",
       "    <tr>\n",
       "      <th>0</th>\n",
       "      <td>0</td>\n",
       "      <td>1982</td>\n",
       "      <td>1000</td>\n",
       "      <td>0.000000</td>\n",
       "      <td>0.020441</td>\n",
       "      <td>ML-LN-T1</td>\n",
       "    </tr>\n",
       "    <tr>\n",
       "      <th>1</th>\n",
       "      <td>1</td>\n",
       "      <td>1983</td>\n",
       "      <td>1000</td>\n",
       "      <td>0.033333</td>\n",
       "      <td>0.030971</td>\n",
       "      <td>ML-LN-T1</td>\n",
       "    </tr>\n",
       "    <tr>\n",
       "      <th>2</th>\n",
       "      <td>2</td>\n",
       "      <td>1984</td>\n",
       "      <td>1000</td>\n",
       "      <td>0.095238</td>\n",
       "      <td>0.087524</td>\n",
       "      <td>ML-LN-T1</td>\n",
       "    </tr>\n",
       "    <tr>\n",
       "      <th>3</th>\n",
       "      <td>3</td>\n",
       "      <td>1985</td>\n",
       "      <td>1000</td>\n",
       "      <td>0.000000</td>\n",
       "      <td>0.027154</td>\n",
       "      <td>ML-LN-T1</td>\n",
       "    </tr>\n",
       "    <tr>\n",
       "      <th>4</th>\n",
       "      <td>4</td>\n",
       "      <td>1983</td>\n",
       "      <td>1003</td>\n",
       "      <td>0.000000</td>\n",
       "      <td>0.028552</td>\n",
       "      <td>ML-LN-T1</td>\n",
       "    </tr>\n",
       "  </tbody>\n",
       "</table>\n",
       "</div>"
      ],
      "text/plain": [
       "   ID  yearID  fpID    actual     model modelType\n",
       "0   0    1982  1000  0.000000  0.020441  ML-LN-T1\n",
       "1   1    1983  1000  0.033333  0.030971  ML-LN-T1\n",
       "2   2    1984  1000  0.095238  0.087524  ML-LN-T1\n",
       "3   3    1985  1000  0.000000  0.027154  ML-LN-T1\n",
       "4   4    1983  1003  0.000000  0.028552  ML-LN-T1"
      ]
     },
     "execution_count": 4,
     "metadata": {},
     "output_type": "execute_result"
    }
   ],
   "source": [
    "# Read Players Runs Score Predictions csv into a DataFrame\n",
    "runsScoreDF = pd.read_csv(pathRunsScore)\n",
    "runsScoreDF = runsScoreDF.rename(columns={'Unnamed: 0': 'ID'})\n",
    "runsScoreDF = runsScoreDF.rename(columns={'model_type': 'modelType'})\n",
    "runsScoreDF['ID'] = runsScoreDF.index\n",
    "print(runsScoreDF.shape)\n",
    "runsScoreDF.head()"
   ]
  },
  {
   "cell_type": "code",
   "execution_count": 5,
   "metadata": {},
   "outputs": [
    {
     "name": "stdout",
     "output_type": "stream",
     "text": [
      "(835324, 6)\n"
     ]
    },
    {
     "data": {
      "text/html": [
       "<div>\n",
       "<style scoped>\n",
       "    .dataframe tbody tr th:only-of-type {\n",
       "        vertical-align: middle;\n",
       "    }\n",
       "\n",
       "    .dataframe tbody tr th {\n",
       "        vertical-align: top;\n",
       "    }\n",
       "\n",
       "    .dataframe thead th {\n",
       "        text-align: right;\n",
       "    }\n",
       "</style>\n",
       "<table border=\"1\" class=\"dataframe\">\n",
       "  <thead>\n",
       "    <tr style=\"text-align: right;\">\n",
       "      <th></th>\n",
       "      <th>ID</th>\n",
       "      <th>yearID</th>\n",
       "      <th>fpID</th>\n",
       "      <th>actual</th>\n",
       "      <th>model</th>\n",
       "      <th>modelType</th>\n",
       "    </tr>\n",
       "  </thead>\n",
       "  <tbody>\n",
       "    <tr>\n",
       "      <th>0</th>\n",
       "      <td>0</td>\n",
       "      <td>1982</td>\n",
       "      <td>1000</td>\n",
       "      <td>0.0</td>\n",
       "      <td>0.005417</td>\n",
       "      <td>ML-LN-T1</td>\n",
       "    </tr>\n",
       "    <tr>\n",
       "      <th>1</th>\n",
       "      <td>1</td>\n",
       "      <td>1983</td>\n",
       "      <td>1000</td>\n",
       "      <td>0.0</td>\n",
       "      <td>0.004240</td>\n",
       "      <td>ML-LN-T1</td>\n",
       "    </tr>\n",
       "    <tr>\n",
       "      <th>2</th>\n",
       "      <td>2</td>\n",
       "      <td>1984</td>\n",
       "      <td>1000</td>\n",
       "      <td>0.0</td>\n",
       "      <td>0.011114</td>\n",
       "      <td>ML-LN-T1</td>\n",
       "    </tr>\n",
       "    <tr>\n",
       "      <th>3</th>\n",
       "      <td>3</td>\n",
       "      <td>1985</td>\n",
       "      <td>1000</td>\n",
       "      <td>0.0</td>\n",
       "      <td>0.000985</td>\n",
       "      <td>ML-LN-T1</td>\n",
       "    </tr>\n",
       "    <tr>\n",
       "      <th>4</th>\n",
       "      <td>4</td>\n",
       "      <td>1983</td>\n",
       "      <td>1003</td>\n",
       "      <td>0.0</td>\n",
       "      <td>0.007112</td>\n",
       "      <td>ML-LN-T1</td>\n",
       "    </tr>\n",
       "  </tbody>\n",
       "</table>\n",
       "</div>"
      ],
      "text/plain": [
       "   ID  yearID  fpID  actual     model modelType\n",
       "0   0    1982  1000     0.0  0.005417  ML-LN-T1\n",
       "1   1    1983  1000     0.0  0.004240  ML-LN-T1\n",
       "2   2    1984  1000     0.0  0.011114  ML-LN-T1\n",
       "3   3    1985  1000     0.0  0.000985  ML-LN-T1\n",
       "4   4    1983  1003     0.0  0.007112  ML-LN-T1"
      ]
     },
     "execution_count": 5,
     "metadata": {},
     "output_type": "execute_result"
    }
   ],
   "source": [
    "# Read csv into a DataFrame\n",
    "homeRunsDF = pd.read_csv(pathHomeRuns)\n",
    "homeRunsDF = homeRunsDF.rename(columns={'Unnamed: 0': 'ID'})\n",
    "homeRunsDF = homeRunsDF.rename(columns={'model_type': 'modelType'})\n",
    "homeRunsDF['ID'] = homeRunsDF.index\n",
    "print(homeRunsDF.shape)\n",
    "homeRunsDF.head()"
   ]
  },
  {
   "cell_type": "code",
   "execution_count": 6,
   "metadata": {},
   "outputs": [
    {
     "name": "stdout",
     "output_type": "stream",
     "text": [
      "(835324, 6)\n"
     ]
    },
    {
     "data": {
      "text/html": [
       "<div>\n",
       "<style scoped>\n",
       "    .dataframe tbody tr th:only-of-type {\n",
       "        vertical-align: middle;\n",
       "    }\n",
       "\n",
       "    .dataframe tbody tr th {\n",
       "        vertical-align: top;\n",
       "    }\n",
       "\n",
       "    .dataframe thead th {\n",
       "        text-align: right;\n",
       "    }\n",
       "</style>\n",
       "<table border=\"1\" class=\"dataframe\">\n",
       "  <thead>\n",
       "    <tr style=\"text-align: right;\">\n",
       "      <th></th>\n",
       "      <th>ID</th>\n",
       "      <th>yearID</th>\n",
       "      <th>fpID</th>\n",
       "      <th>actual</th>\n",
       "      <th>model</th>\n",
       "      <th>modelType</th>\n",
       "    </tr>\n",
       "  </thead>\n",
       "  <tbody>\n",
       "    <tr>\n",
       "      <th>0</th>\n",
       "      <td>0</td>\n",
       "      <td>1982</td>\n",
       "      <td>1000</td>\n",
       "      <td>0.000000</td>\n",
       "      <td>0.041308</td>\n",
       "      <td>ML-LN-T1</td>\n",
       "    </tr>\n",
       "    <tr>\n",
       "      <th>1</th>\n",
       "      <td>1</td>\n",
       "      <td>1983</td>\n",
       "      <td>1000</td>\n",
       "      <td>0.033333</td>\n",
       "      <td>0.057228</td>\n",
       "      <td>ML-LN-T1</td>\n",
       "    </tr>\n",
       "    <tr>\n",
       "      <th>2</th>\n",
       "      <td>2</td>\n",
       "      <td>1984</td>\n",
       "      <td>1000</td>\n",
       "      <td>0.095238</td>\n",
       "      <td>0.117268</td>\n",
       "      <td>ML-LN-T1</td>\n",
       "    </tr>\n",
       "    <tr>\n",
       "      <th>3</th>\n",
       "      <td>3</td>\n",
       "      <td>1985</td>\n",
       "      <td>1000</td>\n",
       "      <td>0.000000</td>\n",
       "      <td>0.040886</td>\n",
       "      <td>ML-LN-T1</td>\n",
       "    </tr>\n",
       "    <tr>\n",
       "      <th>4</th>\n",
       "      <td>4</td>\n",
       "      <td>1983</td>\n",
       "      <td>1003</td>\n",
       "      <td>0.028571</td>\n",
       "      <td>0.066635</td>\n",
       "      <td>ML-LN-T1</td>\n",
       "    </tr>\n",
       "  </tbody>\n",
       "</table>\n",
       "</div>"
      ],
      "text/plain": [
       "   ID  yearID  fpID    actual     model modelType\n",
       "0   0    1982  1000  0.000000  0.041308  ML-LN-T1\n",
       "1   1    1983  1000  0.033333  0.057228  ML-LN-T1\n",
       "2   2    1984  1000  0.095238  0.117268  ML-LN-T1\n",
       "3   3    1985  1000  0.000000  0.040886  ML-LN-T1\n",
       "4   4    1983  1003  0.028571  0.066635  ML-LN-T1"
      ]
     },
     "execution_count": 6,
     "metadata": {},
     "output_type": "execute_result"
    }
   ],
   "source": [
    "# Read csv into a DataFrame\n",
    "baseHitsDF = pd.read_csv(pathBaseHits)\n",
    "baseHitsDF = baseHitsDF.rename(columns={'Unnamed: 0': 'ID'})\n",
    "baseHitsDF = baseHitsDF.rename(columns={'model_type': 'modelType'})\n",
    "baseHitsDF['ID'] = baseHitsDF.index\n",
    "print(baseHitsDF.shape)\n",
    "baseHitsDF.head()"
   ]
  },
  {
   "cell_type": "code",
   "execution_count": 7,
   "metadata": {},
   "outputs": [
    {
     "name": "stdout",
     "output_type": "stream",
     "text": [
      "(835324, 6)\n"
     ]
    },
    {
     "data": {
      "text/html": [
       "<div>\n",
       "<style scoped>\n",
       "    .dataframe tbody tr th:only-of-type {\n",
       "        vertical-align: middle;\n",
       "    }\n",
       "\n",
       "    .dataframe tbody tr th {\n",
       "        vertical-align: top;\n",
       "    }\n",
       "\n",
       "    .dataframe thead th {\n",
       "        text-align: right;\n",
       "    }\n",
       "</style>\n",
       "<table border=\"1\" class=\"dataframe\">\n",
       "  <thead>\n",
       "    <tr style=\"text-align: right;\">\n",
       "      <th></th>\n",
       "      <th>ID</th>\n",
       "      <th>yearID</th>\n",
       "      <th>fpID</th>\n",
       "      <th>actual</th>\n",
       "      <th>model</th>\n",
       "      <th>modelType</th>\n",
       "    </tr>\n",
       "  </thead>\n",
       "  <tbody>\n",
       "    <tr>\n",
       "      <th>0</th>\n",
       "      <td>0</td>\n",
       "      <td>1982</td>\n",
       "      <td>1000</td>\n",
       "      <td>0.000000</td>\n",
       "      <td>0.012063</td>\n",
       "      <td>ML-LN-T1</td>\n",
       "    </tr>\n",
       "    <tr>\n",
       "      <th>1</th>\n",
       "      <td>1</td>\n",
       "      <td>1983</td>\n",
       "      <td>1000</td>\n",
       "      <td>0.000000</td>\n",
       "      <td>0.012420</td>\n",
       "      <td>ML-LN-T1</td>\n",
       "    </tr>\n",
       "    <tr>\n",
       "      <th>2</th>\n",
       "      <td>2</td>\n",
       "      <td>1984</td>\n",
       "      <td>1000</td>\n",
       "      <td>0.285714</td>\n",
       "      <td>0.131738</td>\n",
       "      <td>ML-LN-T1</td>\n",
       "    </tr>\n",
       "    <tr>\n",
       "      <th>3</th>\n",
       "      <td>3</td>\n",
       "      <td>1985</td>\n",
       "      <td>1000</td>\n",
       "      <td>0.000000</td>\n",
       "      <td>0.069610</td>\n",
       "      <td>ML-LN-T1</td>\n",
       "    </tr>\n",
       "    <tr>\n",
       "      <th>4</th>\n",
       "      <td>4</td>\n",
       "      <td>1983</td>\n",
       "      <td>1003</td>\n",
       "      <td>0.000000</td>\n",
       "      <td>0.019220</td>\n",
       "      <td>ML-LN-T1</td>\n",
       "    </tr>\n",
       "  </tbody>\n",
       "</table>\n",
       "</div>"
      ],
      "text/plain": [
       "   ID  yearID  fpID    actual     model modelType\n",
       "0   0    1982  1000  0.000000  0.012063  ML-LN-T1\n",
       "1   1    1983  1000  0.000000  0.012420  ML-LN-T1\n",
       "2   2    1984  1000  0.285714  0.131738  ML-LN-T1\n",
       "3   3    1985  1000  0.000000  0.069610  ML-LN-T1\n",
       "4   4    1983  1003  0.000000  0.019220  ML-LN-T1"
      ]
     },
     "execution_count": 7,
     "metadata": {},
     "output_type": "execute_result"
    }
   ],
   "source": [
    "# Read csv into a DataFrame\n",
    "walksDF = pd.read_csv(pathWalks)\n",
    "walksDF = walksDF.rename(columns={'Unnamed: 0': 'ID'})\n",
    "walksDF = walksDF.rename(columns={'model_type': 'modelType'})\n",
    "walksDF['ID'] = walksDF.index \n",
    "print(walksDF.shape)\n",
    "walksDF.head()"
   ]
  },
  {
   "cell_type": "markdown",
   "metadata": {},
   "source": [
    "<h1>===========================================================</h1>"
   ]
  },
  {
   "cell_type": "markdown",
   "metadata": {},
   "source": [
    "<h1>Set up SQL DataBase</h1>"
   ]
  },
  {
   "cell_type": "markdown",
   "metadata": {},
   "source": [
    "Before running of the cells below- <b>\n",
    "    in pgAdmin: drop and create above tables with blank content in DataBase named 'baseball_db'"
   ]
  },
  {
   "cell_type": "markdown",
   "metadata": {},
   "source": [
    "<h4>Create a connection to SQL database</h4>"
   ]
  },
  {
   "cell_type": "code",
   "execution_count": 8,
   "metadata": {},
   "outputs": [],
   "source": [
    "pg_user = 'postgres'\n",
    "pg_password = pgPassword\n",
    "db_name = 'baseball_db'\n",
    "\n",
    "connection_string = f\"{pg_user}:{pg_password}@localhost:5432/{db_name}\"\n",
    "engine = create_engine(f'postgresql://{connection_string}')"
   ]
  },
  {
   "cell_type": "code",
   "execution_count": 9,
   "metadata": {},
   "outputs": [
    {
     "data": {
      "text/plain": [
       "['Team-Stats',\n",
       " 'Teams',\n",
       " 'FranchisePlayers',\n",
       " 'Batting',\n",
       " 'TeamPredictions',\n",
       " 'Pitching',\n",
       " 'Salaries',\n",
       " 'Players',\n",
       " 'PlayerPredictions-Walks',\n",
       " 'PlayerPredictions-BaseHits',\n",
       " 'PlayerPredictions-RunsScore',\n",
       " 'PlayerPredictions-HomeRuns',\n",
       " 'Franchises']"
      ]
     },
     "execution_count": 9,
     "metadata": {},
     "output_type": "execute_result"
    }
   ],
   "source": [
    "engine.table_names()"
   ]
  },
  {
   "cell_type": "code",
   "execution_count": 10,
   "metadata": {},
   "outputs": [
    {
     "data": {
      "text/html": [
       "<div>\n",
       "<style scoped>\n",
       "    .dataframe tbody tr th:only-of-type {\n",
       "        vertical-align: middle;\n",
       "    }\n",
       "\n",
       "    .dataframe tbody tr th {\n",
       "        vertical-align: top;\n",
       "    }\n",
       "\n",
       "    .dataframe thead th {\n",
       "        text-align: right;\n",
       "    }\n",
       "</style>\n",
       "<table border=\"1\" class=\"dataframe\">\n",
       "  <thead>\n",
       "    <tr style=\"text-align: right;\">\n",
       "      <th></th>\n",
       "      <th>teamID</th>\n",
       "      <th>TeamName</th>\n",
       "    </tr>\n",
       "  </thead>\n",
       "  <tbody>\n",
       "    <tr>\n",
       "      <th>0</th>\n",
       "      <td>BS1-1871</td>\n",
       "      <td>Boston Red Stockings</td>\n",
       "    </tr>\n",
       "    <tr>\n",
       "      <th>1</th>\n",
       "      <td>CH1-1871</td>\n",
       "      <td>Chicago White Stockings</td>\n",
       "    </tr>\n",
       "    <tr>\n",
       "      <th>2</th>\n",
       "      <td>CL1-1871</td>\n",
       "      <td>Cleveland Forest Citys</td>\n",
       "    </tr>\n",
       "    <tr>\n",
       "      <th>3</th>\n",
       "      <td>FW1-1871</td>\n",
       "      <td>Fort Wayne Kekiongas</td>\n",
       "    </tr>\n",
       "    <tr>\n",
       "      <th>4</th>\n",
       "      <td>NY2-1871</td>\n",
       "      <td>New York Mutuals</td>\n",
       "    </tr>\n",
       "  </tbody>\n",
       "</table>\n",
       "</div>"
      ],
      "text/plain": [
       "     teamID                 TeamName\n",
       "0  BS1-1871     Boston Red Stockings\n",
       "1  CH1-1871  Chicago White Stockings\n",
       "2  CL1-1871   Cleveland Forest Citys\n",
       "3  FW1-1871     Fort Wayne Kekiongas\n",
       "4  NY2-1871         New York Mutuals"
      ]
     },
     "execution_count": 10,
     "metadata": {},
     "output_type": "execute_result"
    }
   ],
   "source": [
    "teamsDF = pd.read_sql_table(\"Teams\", con = engine)\n",
    "teamsDF.head()"
   ]
  },
  {
   "cell_type": "code",
   "execution_count": 11,
   "metadata": {},
   "outputs": [
    {
     "name": "stdout",
     "output_type": "stream",
     "text": [
      "(2360, 7)\n"
     ]
    },
    {
     "data": {
      "text/html": [
       "<div>\n",
       "<style scoped>\n",
       "    .dataframe tbody tr th:only-of-type {\n",
       "        vertical-align: middle;\n",
       "    }\n",
       "\n",
       "    .dataframe tbody tr th {\n",
       "        vertical-align: top;\n",
       "    }\n",
       "\n",
       "    .dataframe thead th {\n",
       "        text-align: right;\n",
       "    }\n",
       "</style>\n",
       "<table border=\"1\" class=\"dataframe\">\n",
       "  <thead>\n",
       "    <tr style=\"text-align: right;\">\n",
       "      <th></th>\n",
       "      <th>ID</th>\n",
       "      <th>yearID</th>\n",
       "      <th>teamID</th>\n",
       "      <th>actual</th>\n",
       "      <th>model</th>\n",
       "      <th>modelType</th>\n",
       "      <th>TeamName</th>\n",
       "    </tr>\n",
       "  </thead>\n",
       "  <tbody>\n",
       "    <tr>\n",
       "      <th>0</th>\n",
       "      <td>60</td>\n",
       "      <td>1997</td>\n",
       "      <td>ANA-1997</td>\n",
       "      <td>0.518519</td>\n",
       "      <td>0.515491</td>\n",
       "      <td>ML-EN-T1</td>\n",
       "      <td>Anaheim Angels</td>\n",
       "    </tr>\n",
       "    <tr>\n",
       "      <th>1</th>\n",
       "      <td>61</td>\n",
       "      <td>1997</td>\n",
       "      <td>ANA-1997</td>\n",
       "      <td>0.518519</td>\n",
       "      <td>0.499180</td>\n",
       "      <td>ML-LN-T1</td>\n",
       "      <td>Anaheim Angels</td>\n",
       "    </tr>\n",
       "    <tr>\n",
       "      <th>2</th>\n",
       "      <td>62</td>\n",
       "      <td>1997</td>\n",
       "      <td>ANA-1997</td>\n",
       "      <td>0.518519</td>\n",
       "      <td>0.499687</td>\n",
       "      <td>ML-LS-T1</td>\n",
       "      <td>Anaheim Angels</td>\n",
       "    </tr>\n",
       "    <tr>\n",
       "      <th>3</th>\n",
       "      <td>63</td>\n",
       "      <td>1997</td>\n",
       "      <td>ANA-1997</td>\n",
       "      <td>0.518519</td>\n",
       "      <td>0.499246</td>\n",
       "      <td>ML-RD-T1</td>\n",
       "      <td>Anaheim Angels</td>\n",
       "    </tr>\n",
       "    <tr>\n",
       "      <th>4</th>\n",
       "      <td>64</td>\n",
       "      <td>1998</td>\n",
       "      <td>ANA-1998</td>\n",
       "      <td>0.524691</td>\n",
       "      <td>0.504953</td>\n",
       "      <td>ML-EN-T1</td>\n",
       "      <td>Anaheim Angels</td>\n",
       "    </tr>\n",
       "  </tbody>\n",
       "</table>\n",
       "</div>"
      ],
      "text/plain": [
       "   ID  yearID    teamID    actual     model modelType        TeamName\n",
       "0  60    1997  ANA-1997  0.518519  0.515491  ML-EN-T1  Anaheim Angels\n",
       "1  61    1997  ANA-1997  0.518519  0.499180  ML-LN-T1  Anaheim Angels\n",
       "2  62    1997  ANA-1997  0.518519  0.499687  ML-LS-T1  Anaheim Angels\n",
       "3  63    1997  ANA-1997  0.518519  0.499246  ML-RD-T1  Anaheim Angels\n",
       "4  64    1998  ANA-1998  0.524691  0.504953  ML-EN-T1  Anaheim Angels"
      ]
     },
     "execution_count": 11,
     "metadata": {},
     "output_type": "execute_result"
    }
   ],
   "source": [
    "mergeTeamsDF = pd.merge(teamPredictDF, teamsDF, on=\"teamID\")\n",
    "print(mergeTeamsDF.shape)\n",
    "mergeTeamsDF.head()"
   ]
  },
  {
   "cell_type": "code",
   "execution_count": 12,
   "metadata": {},
   "outputs": [
    {
     "name": "stdout",
     "output_type": "stream",
     "text": [
      "(2360, 6)\n"
     ]
    },
    {
     "data": {
      "text/html": [
       "<div>\n",
       "<style scoped>\n",
       "    .dataframe tbody tr th:only-of-type {\n",
       "        vertical-align: middle;\n",
       "    }\n",
       "\n",
       "    .dataframe tbody tr th {\n",
       "        vertical-align: top;\n",
       "    }\n",
       "\n",
       "    .dataframe thead th {\n",
       "        text-align: right;\n",
       "    }\n",
       "</style>\n",
       "<table border=\"1\" class=\"dataframe\">\n",
       "  <thead>\n",
       "    <tr style=\"text-align: right;\">\n",
       "      <th></th>\n",
       "      <th>ID</th>\n",
       "      <th>yearID</th>\n",
       "      <th>teamID</th>\n",
       "      <th>actual</th>\n",
       "      <th>model</th>\n",
       "      <th>modelType</th>\n",
       "    </tr>\n",
       "  </thead>\n",
       "  <tbody>\n",
       "    <tr>\n",
       "      <th>0</th>\n",
       "      <td>0</td>\n",
       "      <td>1997</td>\n",
       "      <td>ANA-1997</td>\n",
       "      <td>0.518519</td>\n",
       "      <td>0.515491</td>\n",
       "      <td>ML-EN-T1</td>\n",
       "    </tr>\n",
       "    <tr>\n",
       "      <th>1</th>\n",
       "      <td>1</td>\n",
       "      <td>1997</td>\n",
       "      <td>ANA-1997</td>\n",
       "      <td>0.518519</td>\n",
       "      <td>0.499180</td>\n",
       "      <td>ML-LN-T1</td>\n",
       "    </tr>\n",
       "    <tr>\n",
       "      <th>2</th>\n",
       "      <td>2</td>\n",
       "      <td>1997</td>\n",
       "      <td>ANA-1997</td>\n",
       "      <td>0.518519</td>\n",
       "      <td>0.499687</td>\n",
       "      <td>ML-LS-T1</td>\n",
       "    </tr>\n",
       "    <tr>\n",
       "      <th>3</th>\n",
       "      <td>3</td>\n",
       "      <td>1997</td>\n",
       "      <td>ANA-1997</td>\n",
       "      <td>0.518519</td>\n",
       "      <td>0.499246</td>\n",
       "      <td>ML-RD-T1</td>\n",
       "    </tr>\n",
       "    <tr>\n",
       "      <th>4</th>\n",
       "      <td>4</td>\n",
       "      <td>1998</td>\n",
       "      <td>ANA-1998</td>\n",
       "      <td>0.524691</td>\n",
       "      <td>0.504953</td>\n",
       "      <td>ML-EN-T1</td>\n",
       "    </tr>\n",
       "  </tbody>\n",
       "</table>\n",
       "</div>"
      ],
      "text/plain": [
       "   ID  yearID    teamID    actual     model modelType\n",
       "0   0    1997  ANA-1997  0.518519  0.515491  ML-EN-T1\n",
       "1   1    1997  ANA-1997  0.518519  0.499180  ML-LN-T1\n",
       "2   2    1997  ANA-1997  0.518519  0.499687  ML-LS-T1\n",
       "3   3    1997  ANA-1997  0.518519  0.499246  ML-RD-T1\n",
       "4   4    1998  ANA-1998  0.524691  0.504953  ML-EN-T1"
      ]
     },
     "execution_count": 12,
     "metadata": {},
     "output_type": "execute_result"
    }
   ],
   "source": [
    "teamPredictDF2 = mergeTeamsDF.copy()\n",
    "teamPredictDF2['ID'] = teamPredictDF2.index\n",
    "teamPredictDF2 = teamPredictDF2[teamPredictDF2.columns.drop('TeamName')]\n",
    "print(teamPredictDF2.shape)\n",
    "teamPredictDF2.head()"
   ]
  },
  {
   "cell_type": "markdown",
   "metadata": {},
   "source": [
    "<h4>Add dataframes to SQL database</h4>"
   ]
  },
  {
   "cell_type": "code",
   "execution_count": 13,
   "metadata": {},
   "outputs": [
    {
     "name": "stdout",
     "output_type": "stream",
     "text": [
      "team predictions loaded success...\n"
     ]
    }
   ],
   "source": [
    "teamPredictDF2.to_sql(name = \"TeamPredictions\", con = engine, if_exists='append', index=False)\n",
    "print(\"team predictions loaded success...\")"
   ]
  },
  {
   "cell_type": "code",
   "execution_count": 14,
   "metadata": {},
   "outputs": [
    {
     "name": "stdout",
     "output_type": "stream",
     "text": [
      "runs score predictions loaded success...\n"
     ]
    }
   ],
   "source": [
    "runsScoreDF.to_sql(name = \"PlayerPredictions-RunsScore\", con = engine, if_exists='append', index=False)\n",
    "print(\"runs score predictions loaded success...\")"
   ]
  },
  {
   "cell_type": "code",
   "execution_count": 15,
   "metadata": {},
   "outputs": [
    {
     "name": "stdout",
     "output_type": "stream",
     "text": [
      "home runs predictions loaded success...\n"
     ]
    }
   ],
   "source": [
    "homeRunsDF.to_sql(name = \"PlayerPredictions-HomeRuns\", con = engine, if_exists='append', index=False)\n",
    "print(\"home runs predictions loaded success...\")"
   ]
  },
  {
   "cell_type": "code",
   "execution_count": 16,
   "metadata": {},
   "outputs": [
    {
     "name": "stdout",
     "output_type": "stream",
     "text": [
      "base hits predictions loaded success...\n"
     ]
    }
   ],
   "source": [
    "baseHitsDF.to_sql(name = \"PlayerPredictions-BaseHits\", con = engine, if_exists='append', index=False)\n",
    "print(\"base hits predictions loaded success...\")"
   ]
  },
  {
   "cell_type": "code",
   "execution_count": 17,
   "metadata": {},
   "outputs": [
    {
     "name": "stdout",
     "output_type": "stream",
     "text": [
      "walks predictions loaded success...\n"
     ]
    }
   ],
   "source": [
    "walksDF.to_sql(name = \"PlayerPredictions-Walks\", con = engine, if_exists='append', index=False)\n",
    "print(\"walks predictions loaded success...\")"
   ]
  },
  {
   "cell_type": "code",
   "execution_count": null,
   "metadata": {},
   "outputs": [],
   "source": []
  }
 ],
 "metadata": {
  "kernelspec": {
   "display_name": "Python 3",
   "language": "python",
   "name": "python3"
  },
  "language_info": {
   "codemirror_mode": {
    "name": "ipython",
    "version": 3
   },
   "file_extension": ".py",
   "mimetype": "text/x-python",
   "name": "python",
   "nbconvert_exporter": "python",
   "pygments_lexer": "ipython3",
   "version": "3.8.3"
  }
 },
 "nbformat": 4,
 "nbformat_minor": 4
}
