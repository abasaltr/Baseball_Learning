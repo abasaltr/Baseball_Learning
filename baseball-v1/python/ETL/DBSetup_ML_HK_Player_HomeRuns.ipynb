{
 "cells": [
  {
   "cell_type": "markdown",
   "metadata": {},
   "source": [
    "<h1>Add Machine Learning Model CSV results to HEROKU Database</h1>\n",
    "<br>\n",
    "PLAYER PREDICTIONS - HOME RUNS"
   ]
  },
  {
   "cell_type": "markdown",
   "metadata": {},
   "source": [
    "<h4>Import Dependencies</h4>"
   ]
  },
  {
   "cell_type": "code",
   "execution_count": 1,
   "metadata": {},
   "outputs": [],
   "source": [
    "import os\n",
    "import csv\n",
    "import pandas as pd\n",
    "import random\n",
    "\n",
    "import sqlite3\n",
    "import csv\n",
    "from sqlalchemy import create_engine\n",
    "\n",
    "from config import pgPassword"
   ]
  },
  {
   "cell_type": "markdown",
   "metadata": {},
   "source": [
    "<h4>Create paths to CSV files</h4>"
   ]
  },
  {
   "cell_type": "code",
   "execution_count": 2,
   "metadata": {},
   "outputs": [],
   "source": [
    "#pathTeams = os.path.join(\"..\", \"..\", \"data\", \"csv/models\", \"teamPredictions.csv\")\n",
    "#pathRunsScore = os.path.join(\"..\", \"..\", \"data\", \"csv/models\", \"rpgPredictions.csv\")\n",
    "pathHomeRuns = os.path.join(\"..\", \"..\", \"data\", \"csv/models\", \"HRpgPredictions.csv\")\n",
    "#pathBaseHits = os.path.join(\"..\", \"..\", \"data\", \"csv/models\", \"hpgPredictions.csv\")\n",
    "#pathWalks = os.path.join(\"..\", \"..\", \"data\", \"csv/models\", \"BBpgPredictions.csv\")"
   ]
  },
  {
   "cell_type": "markdown",
   "metadata": {},
   "source": [
    "<h4>Load CSV files into DataFrame</h4>"
   ]
  },
  {
   "cell_type": "code",
   "execution_count": 3,
   "metadata": {},
   "outputs": [
    {
     "name": "stdout",
     "output_type": "stream",
     "text": [
      "(835324, 6)\n"
     ]
    },
    {
     "data": {
      "text/html": [
       "<div>\n",
       "<style scoped>\n",
       "    .dataframe tbody tr th:only-of-type {\n",
       "        vertical-align: middle;\n",
       "    }\n",
       "\n",
       "    .dataframe tbody tr th {\n",
       "        vertical-align: top;\n",
       "    }\n",
       "\n",
       "    .dataframe thead th {\n",
       "        text-align: right;\n",
       "    }\n",
       "</style>\n",
       "<table border=\"1\" class=\"dataframe\">\n",
       "  <thead>\n",
       "    <tr style=\"text-align: right;\">\n",
       "      <th></th>\n",
       "      <th>ID</th>\n",
       "      <th>yearID</th>\n",
       "      <th>fpID</th>\n",
       "      <th>actual</th>\n",
       "      <th>model</th>\n",
       "      <th>modelType</th>\n",
       "    </tr>\n",
       "  </thead>\n",
       "  <tbody>\n",
       "    <tr>\n",
       "      <th>0</th>\n",
       "      <td>0</td>\n",
       "      <td>1982</td>\n",
       "      <td>1000</td>\n",
       "      <td>0.0</td>\n",
       "      <td>0.005417</td>\n",
       "      <td>ML-LN-T1</td>\n",
       "    </tr>\n",
       "    <tr>\n",
       "      <th>1</th>\n",
       "      <td>1</td>\n",
       "      <td>1983</td>\n",
       "      <td>1000</td>\n",
       "      <td>0.0</td>\n",
       "      <td>0.004240</td>\n",
       "      <td>ML-LN-T1</td>\n",
       "    </tr>\n",
       "    <tr>\n",
       "      <th>2</th>\n",
       "      <td>2</td>\n",
       "      <td>1984</td>\n",
       "      <td>1000</td>\n",
       "      <td>0.0</td>\n",
       "      <td>0.011114</td>\n",
       "      <td>ML-LN-T1</td>\n",
       "    </tr>\n",
       "    <tr>\n",
       "      <th>3</th>\n",
       "      <td>3</td>\n",
       "      <td>1985</td>\n",
       "      <td>1000</td>\n",
       "      <td>0.0</td>\n",
       "      <td>0.000985</td>\n",
       "      <td>ML-LN-T1</td>\n",
       "    </tr>\n",
       "    <tr>\n",
       "      <th>4</th>\n",
       "      <td>4</td>\n",
       "      <td>1983</td>\n",
       "      <td>1003</td>\n",
       "      <td>0.0</td>\n",
       "      <td>0.007112</td>\n",
       "      <td>ML-LN-T1</td>\n",
       "    </tr>\n",
       "  </tbody>\n",
       "</table>\n",
       "</div>"
      ],
      "text/plain": [
       "   ID  yearID  fpID  actual     model modelType\n",
       "0   0    1982  1000     0.0  0.005417  ML-LN-T1\n",
       "1   1    1983  1000     0.0  0.004240  ML-LN-T1\n",
       "2   2    1984  1000     0.0  0.011114  ML-LN-T1\n",
       "3   3    1985  1000     0.0  0.000985  ML-LN-T1\n",
       "4   4    1983  1003     0.0  0.007112  ML-LN-T1"
      ]
     },
     "execution_count": 3,
     "metadata": {},
     "output_type": "execute_result"
    }
   ],
   "source": [
    "# Read Players Runs Score Predictions csv into a DataFrame\n",
    "homeRunsDF = pd.read_csv(pathHomeRuns)\n",
    "homeRunsDF = homeRunsDF.rename(columns={'Unnamed: 0': 'ID'})\n",
    "homeRunsDF = homeRunsDF.rename(columns={'model_type': 'modelType'})\n",
    "homeRunsDF['ID'] = homeRunsDF.index\n",
    "print(homeRunsDF.shape)\n",
    "homeRunsDF.head()"
   ]
  },
  {
   "cell_type": "code",
   "execution_count": 4,
   "metadata": {},
   "outputs": [
    {
     "name": "stdout",
     "output_type": "stream",
     "text": [
      "9\n"
     ]
    }
   ],
   "source": [
    "size = 100000\n",
    "HR_df = [homeRunsDF.loc[i:i+size-1,:] for i in range(0, len(homeRunsDF),size)]\n",
    "print(len(HR_df))"
   ]
  },
  {
   "cell_type": "markdown",
   "metadata": {},
   "source": [
    "<h1>===========================================================</h1>"
   ]
  },
  {
   "cell_type": "markdown",
   "metadata": {},
   "source": [
    "<h1>Set up SQL DataBase</h1>"
   ]
  },
  {
   "cell_type": "markdown",
   "metadata": {},
   "source": [
    "Before running of the cells below- <b>\n",
    "    in pgAdmin: drop and create above tables with blank content in DataBase named 'baseball_db'"
   ]
  },
  {
   "cell_type": "markdown",
   "metadata": {},
   "source": [
    "<h4>Create a connection to SQL database</h4>"
   ]
  },
  {
   "cell_type": "code",
   "execution_count": 5,
   "metadata": {},
   "outputs": [],
   "source": [
    "pg_user = 'user'\n",
    "pg_password = 'password'\n",
    "db_name = 'name'\n",
    "\n",
    "connection_string = f\"{pg_user}:{pg_password}@heroku.com:5432/{db_name}\"\n",
    "engine = create_engine(f'postgresql://{connection_string}')"
   ]
  },
  {
   "cell_type": "code",
   "execution_count": 6,
   "metadata": {},
   "outputs": [
    {
     "data": {
      "text/plain": [
       "['Batting',\n",
       " 'Franchises',\n",
       " 'Team-Stats',\n",
       " 'Teams',\n",
       " 'FranchisePlayers',\n",
       " 'Pitching',\n",
       " 'Players',\n",
       " 'PlayerPredictions-RunsScore',\n",
       " 'PlayerPredictions-HomeRuns',\n",
       " 'PlayerPredictions-Walks',\n",
       " 'TeamPredictions',\n",
       " 'PlayerPredictions-BaseHits',\n",
       " 'Salaries']"
      ]
     },
     "execution_count": 6,
     "metadata": {},
     "output_type": "execute_result"
    }
   ],
   "source": [
    "engine.table_names()"
   ]
  },
  {
   "cell_type": "markdown",
   "metadata": {},
   "source": [
    "<h4>Add dataframes to SQL database</h4>"
   ]
  },
  {
   "cell_type": "code",
   "execution_count": 7,
   "metadata": {},
   "outputs": [
    {
     "name": "stdout",
     "output_type": "stream",
     "text": [
      "runs score predictions - 1 loaded success...\n"
     ]
    }
   ],
   "source": [
    "HR_df[0].to_sql(name = \"PlayerPredictions-HomeRuns\", con = engine, if_exists='append', index=False)\n",
    "print(\"home runs predictions - 1 loaded success...\")"
   ]
  },
  {
   "cell_type": "code",
   "execution_count": 8,
   "metadata": {},
   "outputs": [
    {
     "name": "stdout",
     "output_type": "stream",
     "text": [
      "home runs predictions - 2 loaded success...\n"
     ]
    }
   ],
   "source": [
    "HR_df[1].to_sql(name = \"PlayerPredictions-HomeRuns\", con = engine, if_exists='append', index=False)\n",
    "print(\"home runs predictions - 2 loaded success...\")"
   ]
  },
  {
   "cell_type": "code",
   "execution_count": 9,
   "metadata": {},
   "outputs": [
    {
     "name": "stdout",
     "output_type": "stream",
     "text": [
      "home runs predictions - 3 loaded success...\n"
     ]
    }
   ],
   "source": [
    "HR_df[2].to_sql(name = \"PlayerPredictions-HomeRuns\", con = engine, if_exists='append', index=False)\n",
    "print(\"home runs predictions - 3 loaded success...\")"
   ]
  },
  {
   "cell_type": "code",
   "execution_count": 10,
   "metadata": {},
   "outputs": [
    {
     "name": "stdout",
     "output_type": "stream",
     "text": [
      "home runs predictions - 4 loaded success...\n"
     ]
    }
   ],
   "source": [
    "HR_df[3].to_sql(name = \"PlayerPredictions-HomeRuns\", con = engine, if_exists='append', index=False)\n",
    "print(\"home runs predictions - 4 loaded success...\")"
   ]
  },
  {
   "cell_type": "code",
   "execution_count": 11,
   "metadata": {},
   "outputs": [
    {
     "name": "stdout",
     "output_type": "stream",
     "text": [
      "home runs predictions - 5 loaded success...\n"
     ]
    }
   ],
   "source": [
    "HR_df[4].to_sql(name = \"PlayerPredictions-HomeRuns\", con = engine, if_exists='append', index=False)\n",
    "print(\"home runs predictions - 5 loaded success...\")"
   ]
  },
  {
   "cell_type": "code",
   "execution_count": 12,
   "metadata": {},
   "outputs": [
    {
     "name": "stdout",
     "output_type": "stream",
     "text": [
      "home runs predictions - 6 loaded success...\n"
     ]
    }
   ],
   "source": [
    "HR_df[5].to_sql(name = \"PlayerPredictions-HomeRuns\", con = engine, if_exists='append', index=False)\n",
    "print(\"home runs predictions - 6 loaded success...\")"
   ]
  },
  {
   "cell_type": "code",
   "execution_count": 13,
   "metadata": {},
   "outputs": [
    {
     "name": "stdout",
     "output_type": "stream",
     "text": [
      "home runs predictions - 7 loaded success...\n"
     ]
    }
   ],
   "source": [
    "HR_df[6].to_sql(name = \"PlayerPredictions-HomeRuns\", con = engine, if_exists='append', index=False)\n",
    "print(\"home runs predictions - 7 loaded success...\")"
   ]
  },
  {
   "cell_type": "code",
   "execution_count": 14,
   "metadata": {},
   "outputs": [
    {
     "name": "stdout",
     "output_type": "stream",
     "text": [
      "home runs predictions - 8 loaded success...\n"
     ]
    }
   ],
   "source": [
    "HR_df[7].to_sql(name = \"PlayerPredictions-HomeRuns\", con = engine, if_exists='append', index=False)\n",
    "print(\"home runs predictions - 8 loaded success...\")"
   ]
  },
  {
   "cell_type": "code",
   "execution_count": 15,
   "metadata": {},
   "outputs": [
    {
     "name": "stdout",
     "output_type": "stream",
     "text": [
      "home runs predictions - 9 loaded success...\n"
     ]
    }
   ],
   "source": [
    "HR_df[8].to_sql(name = \"PlayerPredictions-HomeRuns\", con = engine, if_exists='append', index=False)\n",
    "print(\"home runs predictions - 9 loaded success...\")"
   ]
  },
  {
   "cell_type": "code",
   "execution_count": null,
   "metadata": {},
   "outputs": [],
   "source": []
  }
 ],
 "metadata": {
  "kernelspec": {
   "display_name": "Python 3",
   "language": "python",
   "name": "python3"
  },
  "language_info": {
   "codemirror_mode": {
    "name": "ipython",
    "version": 3
   },
   "file_extension": ".py",
   "mimetype": "text/x-python",
   "name": "python",
   "nbconvert_exporter": "python",
   "pygments_lexer": "ipython3",
   "version": "3.8.3"
  }
 },
 "nbformat": 4,
 "nbformat_minor": 4
}
