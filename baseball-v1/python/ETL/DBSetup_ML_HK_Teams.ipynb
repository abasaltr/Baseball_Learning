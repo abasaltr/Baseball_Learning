{
 "cells": [
  {
   "cell_type": "markdown",
   "metadata": {},
   "source": [
    "<h1>Add Machine Learning Model CSV results to HEROKU Database</h1>\n",
    "<br>\n",
    "TEAMS PREDICTIONS"
   ]
  },
  {
   "cell_type": "markdown",
   "metadata": {},
   "source": [
    "<h4>Import Dependencies</h4>"
   ]
  },
  {
   "cell_type": "code",
   "execution_count": 1,
   "metadata": {},
   "outputs": [],
   "source": [
    "import os\n",
    "import csv\n",
    "import pandas as pd\n",
    "import random\n",
    "\n",
    "import sqlite3\n",
    "import csv\n",
    "from sqlalchemy import create_engine\n",
    "\n",
    "from config import pgPassword"
   ]
  },
  {
   "cell_type": "markdown",
   "metadata": {},
   "source": [
    "<h4>Create paths to CSV files</h4>"
   ]
  },
  {
   "cell_type": "code",
   "execution_count": 2,
   "metadata": {},
   "outputs": [],
   "source": [
    "pathTeams = os.path.join(\"..\", \"..\", \"data\", \"csv/models\", \"teamPredictions.csv\")\n",
    "#pathRunsScore = os.path.join(\"..\", \"..\", \"data\", \"csv/models\", \"rpgPredictions.csv\")\n",
    "#pathHomeRuns = os.path.join(\"..\", \"..\", \"data\", \"csv/models\", \"HRpgPredictions.csv\")\n",
    "#pathBaseHits = os.path.join(\"..\", \"..\", \"data\", \"csv/models\", \"hpgPredictions.csv\")\n",
    "#pathWalks = os.path.join(\"..\", \"..\", \"data\", \"csv/models\", \"BBpgPredictions.csv\")"
   ]
  },
  {
   "cell_type": "markdown",
   "metadata": {},
   "source": [
    "<h4>Load CSV files into DataFrame</h4>"
   ]
  },
  {
   "cell_type": "code",
   "execution_count": 3,
   "metadata": {},
   "outputs": [
    {
     "name": "stdout",
     "output_type": "stream",
     "text": [
      "(4132, 6)\n"
     ]
    },
    {
     "data": {
      "text/html": [
       "<div>\n",
       "<style scoped>\n",
       "    .dataframe tbody tr th:only-of-type {\n",
       "        vertical-align: middle;\n",
       "    }\n",
       "\n",
       "    .dataframe tbody tr th {\n",
       "        vertical-align: top;\n",
       "    }\n",
       "\n",
       "    .dataframe thead th {\n",
       "        text-align: right;\n",
       "    }\n",
       "</style>\n",
       "<table border=\"1\" class=\"dataframe\">\n",
       "  <thead>\n",
       "    <tr style=\"text-align: right;\">\n",
       "      <th></th>\n",
       "      <th>ID</th>\n",
       "      <th>yearID</th>\n",
       "      <th>teamID</th>\n",
       "      <th>actual</th>\n",
       "      <th>model</th>\n",
       "      <th>modelType</th>\n",
       "    </tr>\n",
       "  </thead>\n",
       "  <tbody>\n",
       "    <tr>\n",
       "      <th>0</th>\n",
       "      <td>0</td>\n",
       "      <td>1999</td>\n",
       "      <td>ANA-1999</td>\n",
       "      <td>0.432099</td>\n",
       "      <td>0.489055</td>\n",
       "      <td>ML-EN-T1</td>\n",
       "    </tr>\n",
       "    <tr>\n",
       "      <th>1</th>\n",
       "      <td>1</td>\n",
       "      <td>1999</td>\n",
       "      <td>ANA-1999</td>\n",
       "      <td>0.432099</td>\n",
       "      <td>0.472244</td>\n",
       "      <td>ML-LN-T1</td>\n",
       "    </tr>\n",
       "    <tr>\n",
       "      <th>2</th>\n",
       "      <td>2</td>\n",
       "      <td>1999</td>\n",
       "      <td>ANA-1999</td>\n",
       "      <td>0.432099</td>\n",
       "      <td>0.498932</td>\n",
       "      <td>ML-LS-T1</td>\n",
       "    </tr>\n",
       "    <tr>\n",
       "      <th>3</th>\n",
       "      <td>3</td>\n",
       "      <td>1999</td>\n",
       "      <td>ANA-1999</td>\n",
       "      <td>0.432099</td>\n",
       "      <td>0.472354</td>\n",
       "      <td>ML-RD-T1</td>\n",
       "    </tr>\n",
       "    <tr>\n",
       "      <th>4</th>\n",
       "      <td>4</td>\n",
       "      <td>2000</td>\n",
       "      <td>ANA-2000</td>\n",
       "      <td>0.506173</td>\n",
       "      <td>0.524125</td>\n",
       "      <td>ML-EN-T1</td>\n",
       "    </tr>\n",
       "  </tbody>\n",
       "</table>\n",
       "</div>"
      ],
      "text/plain": [
       "   ID  yearID    teamID    actual     model modelType\n",
       "0   0    1999  ANA-1999  0.432099  0.489055  ML-EN-T1\n",
       "1   1    1999  ANA-1999  0.432099  0.472244  ML-LN-T1\n",
       "2   2    1999  ANA-1999  0.432099  0.498932  ML-LS-T1\n",
       "3   3    1999  ANA-1999  0.432099  0.472354  ML-RD-T1\n",
       "4   4    2000  ANA-2000  0.506173  0.524125  ML-EN-T1"
      ]
     },
     "execution_count": 3,
     "metadata": {},
     "output_type": "execute_result"
    }
   ],
   "source": [
    "# Read Team Predictions csv into a DataFrame\n",
    "teamPredictDF = pd.read_csv(pathTeams)\n",
    "teamPredictDF = teamPredictDF.rename(columns={'Unnamed: 0': 'ID'})\n",
    "teamPredictDF = teamPredictDF.rename(columns={'model_type': 'modelType'})\n",
    "teamPredictDF['ID'] = teamPredictDF.index\n",
    "print(teamPredictDF.shape)\n",
    "teamPredictDF.head()"
   ]
  },
  {
   "cell_type": "markdown",
   "metadata": {},
   "source": [
    "<h1>===========================================================</h1>"
   ]
  },
  {
   "cell_type": "markdown",
   "metadata": {},
   "source": [
    "<h1>Set up SQL DataBase</h1>"
   ]
  },
  {
   "cell_type": "markdown",
   "metadata": {},
   "source": [
    "Before running of the cells below- <b>\n",
    "    in pgAdmin: drop and create above tables with blank content in DataBase named 'baseball_db'"
   ]
  },
  {
   "cell_type": "markdown",
   "metadata": {},
   "source": [
    "<h4>Create a connection to SQL database</h4>"
   ]
  },
  {
   "cell_type": "code",
   "execution_count": 4,
   "metadata": {},
   "outputs": [],
   "source": [
    "pg_user = 'user'\n",
    "pg_password = 'password'\n",
    "db_name = 'name'\n",
    "\n",
    "connection_string = f\"{pg_user}:{pg_password}@heroku.com:5432/{db_name}\"\n",
    "engine = create_engine(f'postgresql://{connection_string}')"
   ]
  },
  {
   "cell_type": "code",
   "execution_count": 5,
   "metadata": {},
   "outputs": [
    {
     "data": {
      "text/plain": [
       "['Batting',\n",
       " 'Franchises',\n",
       " 'Team-Stats',\n",
       " 'Teams',\n",
       " 'FranchisePlayers',\n",
       " 'Pitching',\n",
       " 'Players',\n",
       " 'PlayerPredictions-RunsScore',\n",
       " 'PlayerPredictions-HomeRuns',\n",
       " 'PlayerPredictions-Walks',\n",
       " 'TeamPredictions',\n",
       " 'PlayerPredictions-BaseHits',\n",
       " 'Salaries']"
      ]
     },
     "execution_count": 5,
     "metadata": {},
     "output_type": "execute_result"
    }
   ],
   "source": [
    "engine.table_names()"
   ]
  },
  {
   "cell_type": "code",
   "execution_count": 6,
   "metadata": {},
   "outputs": [
    {
     "data": {
      "text/html": [
       "<div>\n",
       "<style scoped>\n",
       "    .dataframe tbody tr th:only-of-type {\n",
       "        vertical-align: middle;\n",
       "    }\n",
       "\n",
       "    .dataframe tbody tr th {\n",
       "        vertical-align: top;\n",
       "    }\n",
       "\n",
       "    .dataframe thead th {\n",
       "        text-align: right;\n",
       "    }\n",
       "</style>\n",
       "<table border=\"1\" class=\"dataframe\">\n",
       "  <thead>\n",
       "    <tr style=\"text-align: right;\">\n",
       "      <th></th>\n",
       "      <th>teamID</th>\n",
       "      <th>TeamName</th>\n",
       "    </tr>\n",
       "  </thead>\n",
       "  <tbody>\n",
       "    <tr>\n",
       "      <th>0</th>\n",
       "      <td>BS1-1871</td>\n",
       "      <td>Boston Red Stockings</td>\n",
       "    </tr>\n",
       "    <tr>\n",
       "      <th>1</th>\n",
       "      <td>CH1-1871</td>\n",
       "      <td>Chicago White Stockings</td>\n",
       "    </tr>\n",
       "    <tr>\n",
       "      <th>2</th>\n",
       "      <td>CL1-1871</td>\n",
       "      <td>Cleveland Forest Citys</td>\n",
       "    </tr>\n",
       "    <tr>\n",
       "      <th>3</th>\n",
       "      <td>FW1-1871</td>\n",
       "      <td>Fort Wayne Kekiongas</td>\n",
       "    </tr>\n",
       "    <tr>\n",
       "      <th>4</th>\n",
       "      <td>NY2-1871</td>\n",
       "      <td>New York Mutuals</td>\n",
       "    </tr>\n",
       "  </tbody>\n",
       "</table>\n",
       "</div>"
      ],
      "text/plain": [
       "     teamID                 TeamName\n",
       "0  BS1-1871     Boston Red Stockings\n",
       "1  CH1-1871  Chicago White Stockings\n",
       "2  CL1-1871   Cleveland Forest Citys\n",
       "3  FW1-1871     Fort Wayne Kekiongas\n",
       "4  NY2-1871         New York Mutuals"
      ]
     },
     "execution_count": 6,
     "metadata": {},
     "output_type": "execute_result"
    }
   ],
   "source": [
    "teamsDF = pd.read_sql_table(\"Teams\", con = engine)\n",
    "teamsDF.head()"
   ]
  },
  {
   "cell_type": "code",
   "execution_count": 7,
   "metadata": {},
   "outputs": [
    {
     "name": "stdout",
     "output_type": "stream",
     "text": [
      "(4132, 7)\n"
     ]
    },
    {
     "data": {
      "text/html": [
       "<div>\n",
       "<style scoped>\n",
       "    .dataframe tbody tr th:only-of-type {\n",
       "        vertical-align: middle;\n",
       "    }\n",
       "\n",
       "    .dataframe tbody tr th {\n",
       "        vertical-align: top;\n",
       "    }\n",
       "\n",
       "    .dataframe thead th {\n",
       "        text-align: right;\n",
       "    }\n",
       "</style>\n",
       "<table border=\"1\" class=\"dataframe\">\n",
       "  <thead>\n",
       "    <tr style=\"text-align: right;\">\n",
       "      <th></th>\n",
       "      <th>ID</th>\n",
       "      <th>yearID</th>\n",
       "      <th>teamID</th>\n",
       "      <th>actual</th>\n",
       "      <th>model</th>\n",
       "      <th>modelType</th>\n",
       "      <th>TeamName</th>\n",
       "    </tr>\n",
       "  </thead>\n",
       "  <tbody>\n",
       "    <tr>\n",
       "      <th>0</th>\n",
       "      <td>0</td>\n",
       "      <td>1999</td>\n",
       "      <td>ANA-1999</td>\n",
       "      <td>0.432099</td>\n",
       "      <td>0.489055</td>\n",
       "      <td>ML-EN-T1</td>\n",
       "      <td>Anaheim Angels</td>\n",
       "    </tr>\n",
       "    <tr>\n",
       "      <th>1</th>\n",
       "      <td>1</td>\n",
       "      <td>1999</td>\n",
       "      <td>ANA-1999</td>\n",
       "      <td>0.432099</td>\n",
       "      <td>0.472244</td>\n",
       "      <td>ML-LN-T1</td>\n",
       "      <td>Anaheim Angels</td>\n",
       "    </tr>\n",
       "    <tr>\n",
       "      <th>2</th>\n",
       "      <td>2</td>\n",
       "      <td>1999</td>\n",
       "      <td>ANA-1999</td>\n",
       "      <td>0.432099</td>\n",
       "      <td>0.498932</td>\n",
       "      <td>ML-LS-T1</td>\n",
       "      <td>Anaheim Angels</td>\n",
       "    </tr>\n",
       "    <tr>\n",
       "      <th>3</th>\n",
       "      <td>3</td>\n",
       "      <td>1999</td>\n",
       "      <td>ANA-1999</td>\n",
       "      <td>0.432099</td>\n",
       "      <td>0.472354</td>\n",
       "      <td>ML-RD-T1</td>\n",
       "      <td>Anaheim Angels</td>\n",
       "    </tr>\n",
       "    <tr>\n",
       "      <th>4</th>\n",
       "      <td>4</td>\n",
       "      <td>2000</td>\n",
       "      <td>ANA-2000</td>\n",
       "      <td>0.506173</td>\n",
       "      <td>0.524125</td>\n",
       "      <td>ML-EN-T1</td>\n",
       "      <td>Anaheim Angels</td>\n",
       "    </tr>\n",
       "  </tbody>\n",
       "</table>\n",
       "</div>"
      ],
      "text/plain": [
       "   ID  yearID    teamID    actual     model modelType        TeamName\n",
       "0   0    1999  ANA-1999  0.432099  0.489055  ML-EN-T1  Anaheim Angels\n",
       "1   1    1999  ANA-1999  0.432099  0.472244  ML-LN-T1  Anaheim Angels\n",
       "2   2    1999  ANA-1999  0.432099  0.498932  ML-LS-T1  Anaheim Angels\n",
       "3   3    1999  ANA-1999  0.432099  0.472354  ML-RD-T1  Anaheim Angels\n",
       "4   4    2000  ANA-2000  0.506173  0.524125  ML-EN-T1  Anaheim Angels"
      ]
     },
     "execution_count": 7,
     "metadata": {},
     "output_type": "execute_result"
    }
   ],
   "source": [
    "mergeTeamsDF = pd.merge(teamPredictDF, teamsDF, on=\"teamID\")\n",
    "print(mergeTeamsDF.shape)\n",
    "mergeTeamsDF.head()"
   ]
  },
  {
   "cell_type": "code",
   "execution_count": 8,
   "metadata": {},
   "outputs": [
    {
     "name": "stdout",
     "output_type": "stream",
     "text": [
      "(4132, 6)\n"
     ]
    },
    {
     "data": {
      "text/html": [
       "<div>\n",
       "<style scoped>\n",
       "    .dataframe tbody tr th:only-of-type {\n",
       "        vertical-align: middle;\n",
       "    }\n",
       "\n",
       "    .dataframe tbody tr th {\n",
       "        vertical-align: top;\n",
       "    }\n",
       "\n",
       "    .dataframe thead th {\n",
       "        text-align: right;\n",
       "    }\n",
       "</style>\n",
       "<table border=\"1\" class=\"dataframe\">\n",
       "  <thead>\n",
       "    <tr style=\"text-align: right;\">\n",
       "      <th></th>\n",
       "      <th>ID</th>\n",
       "      <th>yearID</th>\n",
       "      <th>teamID</th>\n",
       "      <th>actual</th>\n",
       "      <th>model</th>\n",
       "      <th>modelType</th>\n",
       "    </tr>\n",
       "  </thead>\n",
       "  <tbody>\n",
       "    <tr>\n",
       "      <th>0</th>\n",
       "      <td>0</td>\n",
       "      <td>1999</td>\n",
       "      <td>ANA-1999</td>\n",
       "      <td>0.432099</td>\n",
       "      <td>0.489055</td>\n",
       "      <td>ML-EN-T1</td>\n",
       "    </tr>\n",
       "    <tr>\n",
       "      <th>1</th>\n",
       "      <td>1</td>\n",
       "      <td>1999</td>\n",
       "      <td>ANA-1999</td>\n",
       "      <td>0.432099</td>\n",
       "      <td>0.472244</td>\n",
       "      <td>ML-LN-T1</td>\n",
       "    </tr>\n",
       "    <tr>\n",
       "      <th>2</th>\n",
       "      <td>2</td>\n",
       "      <td>1999</td>\n",
       "      <td>ANA-1999</td>\n",
       "      <td>0.432099</td>\n",
       "      <td>0.498932</td>\n",
       "      <td>ML-LS-T1</td>\n",
       "    </tr>\n",
       "    <tr>\n",
       "      <th>3</th>\n",
       "      <td>3</td>\n",
       "      <td>1999</td>\n",
       "      <td>ANA-1999</td>\n",
       "      <td>0.432099</td>\n",
       "      <td>0.472354</td>\n",
       "      <td>ML-RD-T1</td>\n",
       "    </tr>\n",
       "    <tr>\n",
       "      <th>4</th>\n",
       "      <td>4</td>\n",
       "      <td>2000</td>\n",
       "      <td>ANA-2000</td>\n",
       "      <td>0.506173</td>\n",
       "      <td>0.524125</td>\n",
       "      <td>ML-EN-T1</td>\n",
       "    </tr>\n",
       "  </tbody>\n",
       "</table>\n",
       "</div>"
      ],
      "text/plain": [
       "   ID  yearID    teamID    actual     model modelType\n",
       "0   0    1999  ANA-1999  0.432099  0.489055  ML-EN-T1\n",
       "1   1    1999  ANA-1999  0.432099  0.472244  ML-LN-T1\n",
       "2   2    1999  ANA-1999  0.432099  0.498932  ML-LS-T1\n",
       "3   3    1999  ANA-1999  0.432099  0.472354  ML-RD-T1\n",
       "4   4    2000  ANA-2000  0.506173  0.524125  ML-EN-T1"
      ]
     },
     "execution_count": 8,
     "metadata": {},
     "output_type": "execute_result"
    }
   ],
   "source": [
    "teamPredictDF2 = mergeTeamsDF.copy()\n",
    "teamPredictDF2['ID'] = teamPredictDF2.index\n",
    "teamPredictDF2 = teamPredictDF2[teamPredictDF2.columns.drop('TeamName')]\n",
    "print(teamPredictDF2.shape)\n",
    "teamPredictDF2.head()"
   ]
  },
  {
   "cell_type": "markdown",
   "metadata": {},
   "source": [
    "<h4>Add dataframes to SQL database</h4>"
   ]
  },
  {
   "cell_type": "code",
   "execution_count": 9,
   "metadata": {},
   "outputs": [
    {
     "name": "stdout",
     "output_type": "stream",
     "text": [
      "team predictions loaded success...\n"
     ]
    }
   ],
   "source": [
    "teamPredictDF2.to_sql(name = \"TeamPredictions\", con = engine, if_exists='append', index=False)\n",
    "print(\"team predictions loaded success...\")"
   ]
  },
  {
   "cell_type": "code",
   "execution_count": null,
   "metadata": {},
   "outputs": [],
   "source": []
  }
 ],
 "metadata": {
  "kernelspec": {
   "display_name": "Python 3",
   "language": "python",
   "name": "python3"
  },
  "language_info": {
   "codemirror_mode": {
    "name": "ipython",
    "version": 3
   },
   "file_extension": ".py",
   "mimetype": "text/x-python",
   "name": "python",
   "nbconvert_exporter": "python",
   "pygments_lexer": "ipython3",
   "version": "3.8.3"
  }
 },
 "nbformat": 4,
 "nbformat_minor": 4
}
